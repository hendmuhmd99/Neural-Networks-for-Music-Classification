{
 "cells": [
  {
   "cell_type": "markdown",
   "metadata": {},
   "source": [
    "# Lab 6:  Neural Networks for Music Classification\n",
    "\n",
    "In addition to the concepts in the [MNIST neural network demo](./mnist_neural.ipynb), in this lab, you will learn to:\n",
    "* Load a file from a URL\n",
    "* Extract simple features from audio samples for machine learning tasks such as speech recognition and classification\n",
    "* Build a simple neural network for music classification using these features\n",
    "* Use a callback to store the loss and accuracy history in the training process\n",
    "* Optimize the learning rate of the neural network\n",
    "\n",
    "To illustrate the basic concepts, we will look at a relatively simple music classification problem.  Given a sample of music, we want to determine which instrument (e.g. trumpet, violin, piano) is playing.  This dataset was generously supplied by [Prof. Juan Bello](http://steinhardt.nyu.edu/faculty/Juan_Pablo_Bello) at NYU Stenihardt  and his former PhD student Eric Humphrey (now at Spotify).  They have a complete website dedicated to deep learning methods in music informatics:\n",
    "\n",
    "http://marl.smusic.nyu.edu/wordpress/projects/feature-learning-deep-architectures/deep-learning-python-tutorial/\n",
    "\n",
    "You can also check out Juan's <a href=\"http://www.nyu.edu/classes/bello/ACA.html\">course</a>.\n",
    "\n"
   ]
  },
  {
   "cell_type": "markdown",
   "metadata": {},
   "source": [
    "## Loading the Keras package\n",
    "We begin by loading keras and the other packages"
   ]
  },
  {
   "cell_type": "code",
   "execution_count": 1,
   "metadata": {},
   "outputs": [],
   "source": [
    "import keras"
   ]
  },
  {
   "cell_type": "code",
   "execution_count": 2,
   "metadata": {},
   "outputs": [],
   "source": [
    "import numpy as np\n",
    "import matplotlib\n",
    "import matplotlib.pyplot as plt\n",
    "%matplotlib inline"
   ]
  },
  {
   "cell_type": "markdown",
   "metadata": {},
   "source": [
    "## Audio Feature Extraction with Librosa\n",
    "\n",
    "The key to audio classification is to extract the correct features. In addition to `keras`, we will need the `librosa` package.  The `librosa` package in python has a rich set of methods extracting the features of audio samples commonly used in machine learning tasks such as speech recognition and sound classification. \n",
    "\n",
    "Installation instructions and complete documentation for the package are given on the [librosa main page](https://librosa.github.io/librosa/).  On most systems, you should be able to simply use:\n",
    "\n",
    "    pip install -u librosa\n",
    "    \n",
    "For Unix, you may need to load some additional packages:\n",
    "\n",
    "    sudo apt-get install build-essential\n",
    "    sudo apt-get install libxext-dev python-qt4 qt4-dev-tools\n",
    "    pip install librosa\n",
    "    \n",
    "After you have installed the package, try to import it."
   ]
  },
  {
   "cell_type": "code",
   "execution_count": 3,
   "metadata": {},
   "outputs": [],
   "source": [
    "import librosa\n",
    "import librosa.display\n",
    "import librosa.feature"
   ]
  },
  {
   "cell_type": "markdown",
   "metadata": {},
   "source": [
    "In this lab, we will use a set of music samples from the website:\n",
    "\n",
    "http://theremin.music.uiowa.edu\n",
    "\n",
    "This website has a great set of samples for audio processing.  Look on the web for how to use the `requests.get` and `file.write` commands to load the file at the URL provided into your working directory.\n",
    "\n",
    "You can play the audio sample by copying the file to your local machine and playing it on any media player.  If you listen to it you will hear a soprano saxaphone (with vibrato) playing four notes (C, C#, D, Eb)."
   ]
  },
  {
   "cell_type": "code",
   "execution_count": 4,
   "metadata": {},
   "outputs": [
    {
     "data": {
      "text/plain": [
       "1418242"
      ]
     },
     "execution_count": 4,
     "metadata": {},
     "output_type": "execute_result"
    }
   ],
   "source": [
    "import requests\n",
    "fn = \"SopSax.Vib.pp.C6Eb6.aiff\"\n",
    "url = \"http://theremin.music.uiowa.edu/sound files/MIS/Woodwinds/sopranosaxophone/\"+fn\n",
    "ff=requests.get(url)\n",
    "open (fn,\"wb\").write(ff.content)\n",
    "# TODO:  Load the file from url and save it in a file under the name fn"
   ]
  },
  {
   "cell_type": "markdown",
   "metadata": {},
   "source": [
    "Next, use `librosa` command `librosa.load` to read the audio file with filename `fn` and get the samples `y` and sample rate `sr`."
   ]
  },
  {
   "cell_type": "code",
   "execution_count": 5,
   "metadata": {},
   "outputs": [],
   "source": [
    "# TODO\n",
    "# y, sr = ...\n",
    "y, sr = librosa.load(fn , sr=48100)"
   ]
  },
  {
   "cell_type": "markdown",
   "metadata": {},
   "source": [
    "Extracting features from audio files is an entire subject on its own right.  A commonly used set of features are called the Mel Frequency Cepstral Coefficients (MFCCs).  These are derived from the so-called mel spectrogram which is something like a regular spectrogram, but the power and frequency are represented in log scale, which more naturally aligns with human perceptual processing.  You can run the code below to display the mel spectrogram from the audio sample.\n",
    "\n",
    "You can easily see the four notes played in the audio track.  You also see the 'harmonics' of each notes, which are other tones at integer multiples of the fundamental frequency of each note."
   ]
  },
  {
   "cell_type": "code",
   "execution_count": 6,
   "metadata": {},
   "outputs": [
    {
     "data": {
      "image/png": "[encoded data removed]",
      "text/plain": [
       "<Figure size 432x288 with 2 Axes>"
      ]
     },
     "metadata": {
      "needs_background": "light"
     },
     "output_type": "display_data"
    }
   ],
   "source": [
    "S = librosa.feature.melspectrogram(y=y, sr=sr, n_mels=128, fmax=8000)\n",
    "librosa.display.specshow(librosa.amplitude_to_db(S,ref=np.max),\n",
    "                         y_axis='mel', fmax=8000, x_axis='time')\n",
    "plt.colorbar(format='%+2.0f dB')\n",
    "plt.title('Mel spectrogram')\n",
    "plt.tight_layout()"
   ]
  },
  {
   "cell_type": "markdown",
   "metadata": {},
   "source": [
    "## Downloading the Data\n",
    "\n",
    "Using the MFCC features described above, Eric Humphrey and Juan Bellow have created a complete data set that can used for instrument classification.  Essentially, they collected a number of data files from the website above.  For each audio file, the segmented the track into notes and then extracted 120 MFCCs for each note.  The goal is to recognize the instrument from the 120 MFCCs.  The process of feature extraction is quite involved.  So, we will just use their processed data provided at:\n",
    "\n",
    "https://github.com/marl/dl4mir-tutorial/blob/master/README.md\n",
    "\n",
    "Note the password.  Load the four files into some directory, say  `instrument_dataset`.  Then, load them with the commands."
   ]
  },
  {
   "cell_type": "code",
   "execution_count": 7,
   "metadata": {},
   "outputs": [],
   "source": [
    "data_dir = 'instrument_dataset/'\n",
    "Xtr = np.load(data_dir+'uiowa_train_data.npy')\n",
    "ytr = np.load(data_dir+'uiowa_train_labels.npy')\n",
    "Xts = np.load(data_dir+'uiowa_test_data.npy')\n",
    "yts = np.load(data_dir+'uiowa_test_labels.npy')"
   ]
  },
  {
   "cell_type": "markdown",
   "metadata": {},
   "source": [
    "Looking at the data files:\n",
    "* What are the number of training and test samples?\n",
    "* What is the number of features for each sample?\n",
    "* How many classes (i.e. instruments) are there per class.\n"
   ]
  },
  {
   "cell_type": "code",
   "execution_count": 8,
   "metadata": {},
   "outputs": [
    {
     "name": "stdout",
     "output_type": "stream",
     "text": [
      "number of  training samples is 66247 and test samples is 14904\n",
      "number of features for each sample 120\n",
      "classes of training : 10\n",
      "classes of testing : 10\n"
     ]
    }
   ],
   "source": [
    "# TODO\n",
    "print('number of  training samples is %d and test samples is %d'% (len(Xtr),len(Xts)))\n",
    "print ('number of features for each sample %d'% (Xtr.shape[1]))\n",
    "print('classes of training : %d'%(len(np.unique(ytr))))\n",
    "print('classes of testing : %d'%(len(np.unique(yts))))"
   ]
  },
  {
   "cell_type": "markdown",
   "metadata": {},
   "source": [
    "Before continuing, you must scale the training and test data, `Xtr` and `Xts`.  Compute the mean and std deviation of each feature in `Xtr` and create a new training data set, `Xtr_scale`, by subtracting the mean and dividing by the std deviation.  Also compute a scaled test data set, `Xts_scale` using the mean and std deviation learned from the training data set."
   ]
  },
  {
   "cell_type": "code",
   "execution_count": 9,
   "metadata": {},
   "outputs": [
    {
     "name": "stdout",
     "output_type": "stream",
     "text": [
      "[[-0.31827517 -0.32885595 -0.29351324 ... -0.36022673 -0.25311227\n",
      "  -0.41772567]\n",
      " [-0.31018965 -0.2727317  -0.2771818  ... -0.17807889  0.22098027\n",
      "  -0.04118938]\n",
      " [-0.27996699 -0.30067912 -0.26579675 ... -0.22750957  0.43279931\n",
      "  -0.00953712]\n",
      " ...\n",
      " [-0.70541453 -0.70723946 -0.70942862 ...  3.33693492  4.20324336\n",
      "   3.70233809]\n",
      " [-0.71897237 -0.71054126 -0.71014551 ...  3.61543866  6.39878693\n",
      "   3.31839917]\n",
      " [-0.72390302 -0.7118741  -0.70965863 ...  1.07922697  1.84041084\n",
      "   1.42883157]]\n",
      "[[-0.21750643 -0.21681385 -0.22310685 ... -0.68837059 -0.80603516\n",
      "  -0.72767992]\n",
      " [-0.23309243 -0.23444571 -0.23947694 ... -0.73434555 -0.71418557\n",
      "  -0.791695  ]\n",
      " [-0.16197075 -0.20414146 -0.22111234 ... -0.66818614 -0.80244538\n",
      "  -0.68702929]\n",
      " ...\n",
      " [-0.66945232 -0.66272087 -0.66150228 ... -0.74286231 -0.74274835\n",
      "  -0.81456784]\n",
      " [-0.66689074 -0.66199011 -0.66236822 ... -0.59806106 -0.64959124\n",
      "  -0.54035891]\n",
      " [-0.66550011 -0.66405765 -0.66227782 ... -0.55623913 -0.55268092\n",
      "  -0.63606318]]\n"
     ]
    }
   ],
   "source": [
    "# TODO Scale the training and test matrices\n",
    "# Xtr_scale = ...\n",
    "# Xts_scale = ...\n",
    "Xtr_mean=np.mean(Xtr,axis=0)\n",
    "Xtr_std=np.std(Xtr,axis=0)\n",
    "Xtr_scale=(Xtr - Xtr_mean[None, :])/Xtr_std[None, :]\n",
    "Xts_scale=(Xts - Xtr_mean[None, :])/Xtr_std[None, :]\n",
    "print(Xtr_scale)\n",
    "print(Xts_scale)"
   ]
  },
  {
   "cell_type": "code",
   "execution_count": null,
   "metadata": {},
   "outputs": [],
   "source": []
  },
  {
   "cell_type": "code",
   "execution_count": 10,
   "metadata": {},
   "outputs": [],
   "source": [
    "from keras.models import Model, Sequential\n",
    "from keras.layers import Dense, Activation"
   ]
  },
  {
   "cell_type": "code",
   "execution_count": 11,
   "metadata": {},
   "outputs": [],
   "source": [
    "# TODO clear session\n",
    "from keras import backend as k\n",
    "k.clear_session()"
   ]
  },
  {
   "cell_type": "code",
   "execution_count": 12,
   "metadata": {},
   "outputs": [],
   "source": [
    "# TODO: construct the model\n",
    "nh=256\n",
    "no_in=Xtr_scale.shape[1]\n",
    "no_out=int(np.max(ytr)+1)\n",
    "model=Sequential()\n",
    "model.add(Dense(units=nh,input_shape=(no_in,),activation='sigmoid',name='hidden'))\n",
    "model.add(Dense(units=no_out,activation='softmax',name='output'))"
   ]
  },
  {
   "cell_type": "code",
   "execution_count": 13,
   "metadata": {},
   "outputs": [
    {
     "name": "stdout",
     "output_type": "stream",
     "text": [
      "Model: \"sequential\"\n",
      "_________________________________________________________________\n",
      " Layer (type)                Output Shape              Param #   \n",
      "=================================================================\n",
      " hidden (Dense)              (None, 256)               30976     \n",
      "                                                                 \n",
      " output (Dense)              (None, 10)                2570      \n",
      "                                                                 \n",
      "=================================================================\n",
      "Total params: 33,546\n",
      "Trainable params: 33,546\n",
      "Non-trainable params: 0\n",
      "_________________________________________________________________\n"
     ]
    }
   ],
   "source": [
    "# TODO:  Print the model summary\n",
    "model.summary()"
   ]
  },
  {
   "cell_type": "markdown",
   "metadata": {},
   "source": [
    "To keep track of the loss history and validation accuracy, we will use a *callback* function as described in [Keras callback documentation](https://keras.io/callbacks/).  A callback is a class that is passed to the `fit` method.  Complete the `LoadHistory` callback class below to save the loss and validation accuracy."
   ]
  },
  {
   "cell_type": "code",
   "execution_count": 14,
   "metadata": {},
   "outputs": [],
   "source": [
    "class LossHistory(keras.callbacks.Callback):\n",
    "    def on_train_begin(self, logs={}):\n",
    "        # TODO:  Create two empty lists, self.loss and self.val_acc\n",
    "        self.loss = []\n",
    "        self.val_acc = []\n",
    "       \n",
    "    def on_batch_end(self, batch, logs={}):\n",
    "        # TODO:  This is called at the end of each batch.  \n",
    "        # Add the loss in logs.get('loss') to the loss list\n",
    "        self.loss.append(logs.get('loss'))\n",
    "    def on_epoch_end(self, epoch, logs):\n",
    "        # TODO:  This is called at the end of each epoch.  \n",
    "        # Add the test accuracy in logs.get('val_acc') to the val_acc list\n",
    "       \n",
    "        self.val_acc.append(logs.get('val_acc'))\n",
    "\n",
    "# Create an instance of the history callback\n",
    "history_cb = LossHistory()"
   ]
  },
  {
   "cell_type": "markdown",
   "metadata": {},
   "source": [
    "Create an optimizer and compile the model.  Select the appropriate loss function and metrics.  For the optimizer, use the Adam optimizer with a learning rate of 0.001"
   ]
  },
  {
   "cell_type": "code",
   "execution_count": 15,
   "metadata": {
    "scrolled": true
   },
   "outputs": [],
   "source": [
    "# TODO\n",
    "# opt = ...\n",
    "# model.compile(...)\n",
    "from tensorflow.keras import optimizers\n",
    "optim = optimizers.Adam(learning_rate=0.001)\n",
    "model.compile(optim,loss='sparse_categorical_crossentropy',metrics=['accuracy'])"
   ]
  },
  {
   "cell_type": "markdown",
   "metadata": {},
   "source": [
    "Fit the model for 10 epochs using the scaled data for both the training and validation.  Use the `validation_data` option to pass the test data.  Also, pass the callback class create above.  Use a batch size of 100.  Your final accuracy should be >99%."
   ]
  },
  {
   "cell_type": "code",
   "execution_count": 16,
   "metadata": {
    "scrolled": true
   },
   "outputs": [
    {
     "name": "stdout",
     "output_type": "stream",
     "text": [
      "Epoch 1/10\n",
      "663/663 [==============================] - 1s 1ms/step - loss: 0.3553 - accuracy: 0.9030 - val_loss: 0.1761 - val_accuracy: 0.9532\n",
      "Epoch 2/10\n",
      "663/663 [==============================] - 1s 1ms/step - loss: 0.0999 - accuracy: 0.9759 - val_loss: 0.0889 - val_accuracy: 0.9755\n",
      "Epoch 3/10\n",
      "663/663 [==============================] - 1s 1ms/step - loss: 0.0596 - accuracy: 0.9853 - val_loss: 0.0574 - val_accuracy: 0.9865\n",
      "Epoch 4/10\n",
      "663/663 [==============================] - 1s 1ms/step - loss: 0.0419 - accuracy: 0.9894 - val_loss: 0.0478 - val_accuracy: 0.9868\n",
      "Epoch 5/10\n",
      "663/663 [==============================] - 1s 1ms/step - loss: 0.0321 - accuracy: 0.9917 - val_loss: 0.0433 - val_accuracy: 0.9881\n",
      "Epoch 6/10\n",
      "663/663 [==============================] - 1s 1ms/step - loss: 0.0254 - accuracy: 0.9933 - val_loss: 0.0338 - val_accuracy: 0.9901\n",
      "Epoch 7/10\n",
      "663/663 [==============================] - 1s 1ms/step - loss: 0.0209 - accuracy: 0.9946 - val_loss: 0.0299 - val_accuracy: 0.9914\n",
      "Epoch 8/10\n",
      "663/663 [==============================] - 1s 1ms/step - loss: 0.0175 - accuracy: 0.9953 - val_loss: 0.0257 - val_accuracy: 0.9921\n",
      "Epoch 9/10\n",
      "663/663 [==============================] - 1s 1ms/step - loss: 0.0149 - accuracy: 0.9959 - val_loss: 0.0237 - val_accuracy: 0.9928\n",
      "Epoch 10/10\n",
      "663/663 [==============================] - 1s 1ms/step - loss: 0.0130 - accuracy: 0.9965 - val_loss: 0.0264 - val_accuracy: 0.9909\n"
     ]
    }
   ],
   "source": [
    "# TODO\n",
    "batch_size = 100\n",
    "hist = model.fit(Xtr_scale, ytr, epochs= 10, batch_size= batch_size , validation_data= (Xts_scale, yts), callbacks=[history_cb])"
   ]
  },
  {
   "cell_type": "markdown",
   "metadata": {},
   "source": [
    "Plot the validation accuracy saved in the `history_cb`. This gives one accuracy value per epoch.  You should see that the validation accuracy saturates at a little higher than 99%.  After that it \"bounces around\" due to the noise in the stochastic gradient descent."
   ]
  },
  {
   "cell_type": "code",
   "execution_count": 17,
   "metadata": {},
   "outputs": [
    {
     "data": {
      "text/plain": [
       "Text(0.5, 1.0, 'Validation accuracy for each Epoch')"
      ]
     },
     "execution_count": 17,
     "metadata": {},
     "output_type": "execute_result"
    },
    {
     "data": {
      "image/png": "[encoded data removed]",
      "text/plain": [
       "<Figure size 432x288 with 1 Axes>"
      ]
     },
     "metadata": {
      "needs_background": "light"
     },
     "output_type": "display_data"
    }
   ],
   "source": [
    "# TODO\n",
    "epochs=np.arange(1,11)\n",
    "plt.plot(epochs,hist.history['val_accuracy'])\n",
    "plt.ylabel('Validation accuracy')\n",
    "plt.xlabel('Epochs')\n",
    "plt.title('Validation accuracy for each Epoch')"
   ]
  },
  {
   "cell_type": "markdown",
   "metadata": {},
   "source": [
    "Plot the loss values saved in the `history_cb` class.  Use the `semilogy` plot.  There is one loss value per step.  But, plot the x-axis in epochs.  Note that the epoch in step `i` is `epoch = i*batch_size/ntr` where `batch_size` is the batch_size and `ntr` is the total number of training samples."
   ]
  },
  {
   "cell_type": "code",
   "execution_count": 18,
   "metadata": {},
   "outputs": [
    {
     "name": "stdout",
     "output_type": "stream",
     "text": [
      "[0.35533893 0.09987517 0.05955257 0.04186201 0.03209239 0.02542815\n",
      " 0.02090845 0.01747671 0.01493273 0.01297856]\n"
     ]
    },
    {
     "data": {
      "text/plain": [
       "Text(0.5, 0, 'Loss')"
      ]
     },
     "execution_count": 18,
     "metadata": {},
     "output_type": "execute_result"
    },
    {
     "data": {
      "image/png": "[encoded data removed]",
      "text/plain": [
       "<Figure size 432x288 with 1 Axes>"
      ]
     },
     "metadata": {
      "needs_background": "light"
     },
     "output_type": "display_data"
    }
   ],
   "source": [
    "# TODO\n",
    "hist=np.array(hist.history['loss'])\n",
    "print(hist)\n",
    "plt.semilogy(hist,'c')\n",
    "plt.xlabel('Loss')"
   ]
  },
  {
   "cell_type": "markdown",
   "metadata": {},
   "source": [
    "## Optimizing the Learning Rate\n",
    "\n",
    "One challenge in training neural networks is the selection of the learning rate.  Rerun the above code, trying three learning rates as shown in the vector `rates`.  For each learning rate:\n",
    "* clear the session\n",
    "* construct the network\n",
    "* select the optimizer.  Use the Adam optimizer with the appropriate learrning rate.\n",
    "* train the model\n",
    "* save the accuracy and losses"
   ]
  },
  {
   "cell_type": "code",
   "execution_count": 19,
   "metadata": {},
   "outputs": [
    {
     "name": "stdout",
     "output_type": "stream",
     "text": [
      "10\n",
      "Epoch 1/20\n",
      "663/663 [==============================] - 1s 1ms/step - loss: 0.1095 - accuracy: 0.9658 - val_loss: 0.0553 - val_accuracy: 0.9820\n",
      "Epoch 2/20\n",
      "663/663 [==============================] - 1s 1ms/step - loss: 0.0322 - accuracy: 0.9897 - val_loss: 0.0285 - val_accuracy: 0.9893\n",
      "Epoch 3/20\n",
      "663/663 [==============================] - 1s 1ms/step - loss: 0.0205 - accuracy: 0.9931 - val_loss: 0.0429 - val_accuracy: 0.9852\n",
      "Epoch 4/20\n",
      "663/663 [==============================] - 1s 1ms/step - loss: 0.0204 - accuracy: 0.9938 - val_loss: 0.0597 - val_accuracy: 0.9787\n",
      "Epoch 5/20\n",
      "663/663 [==============================] - 1s 1ms/step - loss: 0.0174 - accuracy: 0.9944 - val_loss: 0.0651 - val_accuracy: 0.9775\n",
      "Epoch 6/20\n",
      "663/663 [==============================] - 1s 1ms/step - loss: 0.0129 - accuracy: 0.9957 - val_loss: 0.0223 - val_accuracy: 0.9914\n",
      "Epoch 7/20\n",
      "663/663 [==============================] - 1s 1ms/step - loss: 0.0116 - accuracy: 0.9962 - val_loss: 0.0444 - val_accuracy: 0.9881\n",
      "Epoch 8/20\n",
      "663/663 [==============================] - 1s 1ms/step - loss: 0.0132 - accuracy: 0.9961 - val_loss: 0.0626 - val_accuracy: 0.9840\n",
      "Epoch 9/20\n",
      "663/663 [==============================] - 1s 1ms/step - loss: 0.0139 - accuracy: 0.9960 - val_loss: 0.0446 - val_accuracy: 0.9866\n",
      "Epoch 10/20\n",
      "663/663 [==============================] - 1s 1ms/step - loss: 0.0119 - accuracy: 0.9962 - val_loss: 0.0477 - val_accuracy: 0.9869\n",
      "Epoch 11/20\n",
      "663/663 [==============================] - 1s 1ms/step - loss: 0.0106 - accuracy: 0.9970 - val_loss: 0.0757 - val_accuracy: 0.9805\n",
      "Epoch 12/20\n",
      "663/663 [==============================] - 1s 1ms/step - loss: 0.0117 - accuracy: 0.9965 - val_loss: 0.0448 - val_accuracy: 0.9903\n",
      "Epoch 13/20\n",
      "663/663 [==============================] - 1s 1ms/step - loss: 0.0073 - accuracy: 0.9976 - val_loss: 0.0481 - val_accuracy: 0.9882\n",
      "Epoch 14/20\n",
      "663/663 [==============================] - 1s 1ms/step - loss: 0.0109 - accuracy: 0.9968 - val_loss: 0.0746 - val_accuracy: 0.9797\n",
      "Epoch 15/20\n",
      "663/663 [==============================] - 1s 1ms/step - loss: 0.0088 - accuracy: 0.9972 - val_loss: 0.0562 - val_accuracy: 0.9875\n",
      "Epoch 16/20\n",
      "663/663 [==============================] - 1s 1ms/step - loss: 0.0097 - accuracy: 0.9970 - val_loss: 0.0936 - val_accuracy: 0.9811\n",
      "Epoch 17/20\n",
      "663/663 [==============================] - 1s 1ms/step - loss: 0.0094 - accuracy: 0.9973 - val_loss: 0.0813 - val_accuracy: 0.9830\n",
      "Epoch 18/20\n",
      "663/663 [==============================] - 1s 1ms/step - loss: 0.0068 - accuracy: 0.9979 - val_loss: 0.0668 - val_accuracy: 0.9883\n",
      "Epoch 19/20\n",
      "663/663 [==============================] - 1s 1ms/step - loss: 0.0063 - accuracy: 0.9982 - val_loss: 0.0838 - val_accuracy: 0.9835\n",
      "Epoch 20/20\n",
      "663/663 [==============================] - 1s 1ms/step - loss: 0.0091 - accuracy: 0.9974 - val_loss: 0.0869 - val_accuracy: 0.9835\n",
      "10\n",
      "Epoch 1/20\n",
      "663/663 [==============================] - 1s 1ms/step - loss: 0.3763 - accuracy: 0.8967 - val_loss: 0.1908 - val_accuracy: 0.9460\n",
      "Epoch 2/20\n",
      "663/663 [==============================] - 1s 1ms/step - loss: 0.1072 - accuracy: 0.9744 - val_loss: 0.0906 - val_accuracy: 0.9841\n",
      "Epoch 3/20\n",
      "663/663 [==============================] - 1s 1ms/step - loss: 0.0620 - accuracy: 0.9849 - val_loss: 0.0645 - val_accuracy: 0.9850\n",
      "Epoch 4/20\n",
      "663/663 [==============================] - 1s 1ms/step - loss: 0.0431 - accuracy: 0.9894 - val_loss: 0.0484 - val_accuracy: 0.9874\n",
      "Epoch 5/20\n",
      "663/663 [==============================] - 1s 1ms/step - loss: 0.0324 - accuracy: 0.9914 - val_loss: 0.0430 - val_accuracy: 0.9877\n",
      "Epoch 6/20\n",
      "663/663 [==============================] - 1s 1ms/step - loss: 0.0254 - accuracy: 0.9934 - val_loss: 0.0334 - val_accuracy: 0.9909\n",
      "Epoch 7/20\n",
      "663/663 [==============================] - 1s 1ms/step - loss: 0.0206 - accuracy: 0.9946 - val_loss: 0.0307 - val_accuracy: 0.9912\n",
      "Epoch 8/20\n",
      "663/663 [==============================] - 1s 1ms/step - loss: 0.0172 - accuracy: 0.9955 - val_loss: 0.0260 - val_accuracy: 0.9923\n",
      "Epoch 9/20\n",
      "663/663 [==============================] - 1s 1ms/step - loss: 0.0148 - accuracy: 0.9963 - val_loss: 0.0311 - val_accuracy: 0.9893\n",
      "Epoch 10/20\n",
      "663/663 [==============================] - 1s 1ms/step - loss: 0.0128 - accuracy: 0.9966 - val_loss: 0.0270 - val_accuracy: 0.9913\n",
      "Epoch 11/20\n",
      "663/663 [==============================] - 1s 1ms/step - loss: 0.0110 - accuracy: 0.9971 - val_loss: 0.0222 - val_accuracy: 0.9930\n",
      "Epoch 12/20\n",
      "663/663 [==============================] - 1s 1ms/step - loss: 0.0104 - accuracy: 0.9972 - val_loss: 0.0216 - val_accuracy: 0.9924\n",
      "Epoch 13/20\n",
      "663/663 [==============================] - 1s 1ms/step - loss: 0.0090 - accuracy: 0.9977 - val_loss: 0.0215 - val_accuracy: 0.9920\n",
      "Epoch 14/20\n",
      "663/663 [==============================] - 1s 1ms/step - loss: 0.0082 - accuracy: 0.9979 - val_loss: 0.0239 - val_accuracy: 0.9913\n",
      "Epoch 15/20\n",
      "663/663 [==============================] - 1s 1ms/step - loss: 0.0073 - accuracy: 0.9982 - val_loss: 0.0226 - val_accuracy: 0.9921\n",
      "Epoch 16/20\n",
      "663/663 [==============================] - 1s 1ms/step - loss: 0.0067 - accuracy: 0.9983 - val_loss: 0.0294 - val_accuracy: 0.9899\n",
      "Epoch 17/20\n",
      "663/663 [==============================] - 1s 1ms/step - loss: 0.0065 - accuracy: 0.9982 - val_loss: 0.0268 - val_accuracy: 0.9909\n",
      "Epoch 18/20\n",
      "663/663 [==============================] - 1s 1ms/step - loss: 0.0059 - accuracy: 0.9984 - val_loss: 0.0243 - val_accuracy: 0.9919\n",
      "Epoch 19/20\n",
      "663/663 [==============================] - 1s 1ms/step - loss: 0.0053 - accuracy: 0.9987 - val_loss: 0.0278 - val_accuracy: 0.9913\n",
      "Epoch 20/20\n",
      "663/663 [==============================] - 1s 1ms/step - loss: 0.0050 - accuracy: 0.9987 - val_loss: 0.0244 - val_accuracy: 0.9924\n",
      "10\n",
      "Epoch 1/20\n",
      "663/663 [==============================] - 1s 1ms/step - loss: 1.1514 - accuracy: 0.6340 - val_loss: 0.8885 - val_accuracy: 0.6697\n",
      "Epoch 2/20\n",
      "663/663 [==============================] - 1s 1ms/step - loss: 0.5688 - accuracy: 0.8422 - val_loss: 0.5890 - val_accuracy: 0.8026\n",
      "Epoch 3/20\n",
      "663/663 [==============================] - 1s 1ms/step - loss: 0.3929 - accuracy: 0.9073 - val_loss: 0.4481 - val_accuracy: 0.8636\n",
      "Epoch 4/20\n",
      "663/663 [==============================] - 1s 1ms/step - loss: 0.3025 - accuracy: 0.9313 - val_loss: 0.3590 - val_accuracy: 0.9002\n",
      "Epoch 5/20\n",
      "663/663 [==============================] - 1s 1ms/step - loss: 0.2451 - accuracy: 0.9451 - val_loss: 0.2923 - val_accuracy: 0.9225\n",
      "Epoch 6/20\n",
      "663/663 [==============================] - 1s 1ms/step - loss: 0.2042 - accuracy: 0.9537 - val_loss: 0.2465 - val_accuracy: 0.9330\n",
      "Epoch 7/20\n",
      "663/663 [==============================] - 1s 1ms/step - loss: 0.1732 - accuracy: 0.9598 - val_loss: 0.2148 - val_accuracy: 0.9375\n",
      "Epoch 8/20\n",
      "663/663 [==============================] - 1s 1ms/step - loss: 0.1487 - accuracy: 0.9649 - val_loss: 0.1869 - val_accuracy: 0.9435\n",
      "Epoch 9/20\n",
      "663/663 [==============================] - 1s 1ms/step - loss: 0.1291 - accuracy: 0.9693 - val_loss: 0.1566 - val_accuracy: 0.9567\n",
      "Epoch 10/20\n",
      "663/663 [==============================] - 1s 1ms/step - loss: 0.1132 - accuracy: 0.9730 - val_loss: 0.1369 - val_accuracy: 0.9625\n",
      "Epoch 11/20\n",
      "663/663 [==============================] - 1s 1ms/step - loss: 0.1002 - accuracy: 0.9763 - val_loss: 0.1199 - val_accuracy: 0.9691\n",
      "Epoch 12/20\n",
      "663/663 [==============================] - 1s 1ms/step - loss: 0.0895 - accuracy: 0.9793 - val_loss: 0.1080 - val_accuracy: 0.9718\n",
      "Epoch 13/20\n",
      "663/663 [==============================] - 1s 1ms/step - loss: 0.0807 - accuracy: 0.9814 - val_loss: 0.1044 - val_accuracy: 0.9690\n",
      "Epoch 14/20\n",
      "663/663 [==============================] - 1s 1ms/step - loss: 0.0733 - accuracy: 0.9830 - val_loss: 0.0895 - val_accuracy: 0.9771\n",
      "Epoch 15/20\n",
      "663/663 [==============================] - 1s 1ms/step - loss: 0.0671 - accuracy: 0.9844 - val_loss: 0.0819 - val_accuracy: 0.9805\n",
      "Epoch 16/20\n",
      "663/663 [==============================] - 1s 1ms/step - loss: 0.0618 - accuracy: 0.9855 - val_loss: 0.0764 - val_accuracy: 0.9817\n",
      "Epoch 17/20\n",
      "663/663 [==============================] - 1s 1ms/step - loss: 0.0573 - accuracy: 0.9866 - val_loss: 0.0695 - val_accuracy: 0.9835\n",
      "Epoch 18/20\n",
      "663/663 [==============================] - 1s 1ms/step - loss: 0.0533 - accuracy: 0.9875 - val_loss: 0.0685 - val_accuracy: 0.9829\n",
      "Epoch 19/20\n",
      "663/663 [==============================] - 1s 1ms/step - loss: 0.0499 - accuracy: 0.9880 - val_loss: 0.0635 - val_accuracy: 0.9848\n",
      "Epoch 20/20\n",
      "663/663 [==============================] - 1s 1ms/step - loss: 0.0469 - accuracy: 0.9887 - val_loss: 0.0617 - val_accuracy: 0.9842\n"
     ]
    }
   ],
   "source": [
    "import tensorflow.keras.backend as K\n",
    "rates = [0.01,0.001,0.0001]\n",
    "batch_size = 100\n",
    "loss_hist = []\n",
    "acc_hist=[]\n",
    "\n",
    "\n",
    "# TODO\n",
    "for lr in rates:\n",
    "    K.clear_session()\n",
    "    nin = Xtr_scale.shape[1]  # dimension of input data\n",
    "    nh = 256     # number of hidden units\n",
    "    nout = int(np.max(ytr)+1)\n",
    "    print(nout)\n",
    "    model = Sequential()\n",
    "    model.add(Dense(units=nh, input_shape=(nin,), activation='sigmoid', name='hidden'))\n",
    "    model.add(Dense(units=nout, activation='softmax', name='output'))\n",
    "    opt = optimizers.Adam(lr) # beta_1=0.9, beta_2=0.999, epsilon=1e-08, decay=0.0)\n",
    "    model.compile(optimizer=opt,loss='sparse_categorical_crossentropy',metrics=['accuracy'])\n",
    "    hist = model.fit(Xtr_scale, ytr, epochs=20,batch_size=100, validation_data=(Xts_scale,yts))\n",
    "    loss_hist.append(hist.history['loss'])\n",
    "    acc_hist.append(hist.history['accuracy'])"
   ]
  },
  {
   "cell_type": "markdown",
   "metadata": {},
   "source": [
    "Plot the loss funciton vs. the epoch number for all three learning rates on one graph.  You should see that the lower learning rates are more stable, but converge slower."
   ]
  },
  {
   "cell_type": "code",
   "execution_count": 22,
   "metadata": {},
   "outputs": [
    {
     "data": {
      "image/png": "[encoded data removed]",
      "text/plain": [
       "<Figure size 432x288 with 1 Axes>"
      ]
     },
     "metadata": {
      "needs_background": "light"
     },
     "output_type": "display_data"
    }
   ],
   "source": [
    "ntest = len(loss_hist)\n",
    "ntr = Xtr.shape[0]\n",
    "batch_size = 100\n",
    "for it, loss in enumerate (loss_hist):\n",
    "  nsteps = len(loss)\n",
    "  epochs = np.arange(nsteps)*batch_size/ntr\n",
    "  \n",
    "  plt.semilogy(epochs,loss)\n",
    "  \n",
    "  rate_str = ['{0:5.4f}'.format(Ir) for Ir in rates]\n",
    "\n",
    "plt.axis([0,np.max(epochs),1e-5,10])\n",
    "plt.xlabel('Epochs', fontsize=12)\n",
    "plt.ylabel('Loss', fontsize=12)\n",
    "plt.legend(rate_str,loc='lower left')\n",
    "plt.tight_layout()\n",
    "# TODO"
   ]
  },
  {
   "cell_type": "code",
   "execution_count": null,
   "metadata": {},
   "outputs": [],
   "source": []
  },
  {
   "cell_type": "code",
   "execution_count": null,
   "metadata": {},
   "outputs": [],
   "source": []
  }
 ],
 "metadata": {
  "anaconda-cloud": {},
  "kernelspec": {
   "display_name": "Python 3 (ipykernel)",
   "language": "python",
   "name": "python3"
  },
  "language_info": {
   "codemirror_mode": {
    "name": "ipython",
    "version": 3
   },
   "file_extension": ".py",
   "mimetype": "text/x-python",
   "name": "python",
   "nbconvert_exporter": "python",
   "pygments_lexer": "ipython3",
   "version": "3.9.7"
  },
  "nteract": {
   "version": "0.28.0"
  }
 },
 "nbformat": 4,
 "nbformat_minor": 1
}
